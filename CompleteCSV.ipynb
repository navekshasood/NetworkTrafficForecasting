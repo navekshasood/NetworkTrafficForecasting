{
 "cells": [
  {
   "cell_type": "markdown",
   "metadata": {},
   "source": [
    "# Complete time-series\n",
    "### Complete time series so that the continuity is maintained."
   ]
  },
  {
   "cell_type": "markdown",
   "metadata": {},
   "source": [
    "#### Import all necessary libraries"
   ]
  },
  {
   "cell_type": "code",
   "execution_count": 1,
   "metadata": {},
   "outputs": [],
   "source": [
    "import pandas as pd\n",
    "import numpy\n",
    "from datetime import datetime\n",
    "import dateutil.parserdf1['time'] = df1['time'].astype(numpy.datetime64)\n",
    "df1.time= df1.time.apply(lambda x: x.strftime('%Y-%m-%d %H'))"
   ]
  },
  {
   "cell_type": "markdown",
   "metadata": {},
   "source": [
    "#### Import the data"
   ]
  },
  {
   "cell_type": "code",
   "execution_count": null,
   "metadata": {},
   "outputs": [],
   "source": [
    "df=pd.read_csv('/home/naveksha/NewData/Final.csv', parse_dates=True)"
   ]
  },
  {
   "cell_type": "markdown",
   "metadata": {},
   "source": [
    "#### Decide the starting and ending time and make a dataframe"
   ]
  },
  {
   "cell_type": "code",
   "execution_count": null,
   "metadata": {},
   "outputs": [],
   "source": [
    "start = ('2017-06-08 00:00:00')\n",
    "end = ('2018-06-07 23:59:00')\n",
    "dates = pd.date_range(start=start, end=end, freq='1Min')\n",
    "new=pd.DataFrame(index=dates)"
   ]
  },
  {
   "cell_type": "markdown",
   "metadata": {},
   "source": [
    "#### Merge it with the existing time series and fill null values with 0"
   ]
  },
  {
   "cell_type": "code",
   "execution_count": null,
   "metadata": {},
   "outputs": [],
   "source": [
    "df['time1'] = df['time1'].astype(numpy.datetime64)\n",
    "new_df = df.merge(new, left_on='time1', right_index=True, how='outer')\n",
    "new_df.sort_values('time1', inplace=True)\n",
    "new_df.fillna(0,inplace=True)\n",
    "new_df.to_csv('/home/naveksha/NewData/FinalFull.csv')"
   ]
  },
  {
   "cell_type": "markdown",
   "metadata": {},
   "source": [
    "#### Convert the minute data to hour data"
   ]
  },
  {
   "cell_type": "code",
   "execution_count": null,
   "metadata": {},
   "outputs": [],
   "source": [
    "df1['time'] = df1['time'].astype(numpy.datetime64)\n",
    "df1.time= df1.time.apply(lambda x: x.strftime('%Y-%m-%d %H'))"
   ]
  }
 ],
 "metadata": {
  "kernelspec": {
   "display_name": "Python 3",
   "language": "python",
   "name": "python3"
  },
  "language_info": {
   "codemirror_mode": {
    "name": "ipython",
    "version": 3
   },
   "file_extension": ".py",
   "mimetype": "text/x-python",
   "name": "python",
   "nbconvert_exporter": "python",
   "pygments_lexer": "ipython3",
   "version": "3.5.2"
  }
 },
 "nbformat": 4,
 "nbformat_minor": 2
}
