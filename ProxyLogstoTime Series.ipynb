{
 "cells": [
  {
   "cell_type": "markdown",
   "metadata": {},
   "source": [
    "# Data Cleaning : Converting proxy logs to network traffic time series.\n",
    "### Proxy logs are the log of each request made to the internet via a proxy server, saved in squid format, it contains information about the request made such as time as which request was made, IP address making the request, URL accessed, bytes exchanged, total time taken to respond to the request, cache hit or miss etc.\n",
    "### From these logs we counted the requsts made in a fixed time period (a minute), total bytes exchanged in all those requests, average time taken to respond to those requests. Hence we get a multivariate time-series."
   ]
  },
  {
   "cell_type": "markdown",
   "metadata": {},
   "source": [
    "#### Import all the neccessary libraries"
   ]
  },
  {
   "cell_type": "code",
   "execution_count": null,
   "metadata": {},
   "outputs": [],
   "source": [
    "import re\n",
    "import time\n",
    "import pandas as pd\n",
    "import glob"
   ]
  },
  {
   "cell_type": "markdown",
   "metadata": {},
   "source": [
    "#### Read all the proxy log files, which are saved as 1 file for each day"
   ]
  },
  {
   "cell_type": "code",
   "execution_count": null,
   "metadata": {},
   "outputs": [],
   "source": [
    "path=('/home/naveksha/A/*')\n",
    "list1=glob.glob(path)"
   ]
  },
  {
   "cell_type": "markdown",
   "metadata": {},
   "source": [
    "#### Open files one by one to convert the raw proxy data to useful information (i.e. time series)"
   ]
  },
  {
   "cell_type": "code",
   "execution_count": null,
   "metadata": {},
   "outputs": [],
   "source": [
    "for i in range(len(list1)):\n",
    "    with open(list1[i], encoding=\"latin-1\") as data:\n",
    "        #separate each line of data by newline(\\n)\n",
    "        line=[line.rstrip('\\n') for line in data]\n",
    "        df2=pd.DataFrame(line)\n",
    "        df2.columns=['raw']\n",
    "        df2=pd.DataFrame(df2.raw.str.split().tolist())\n",
    "    \n",
    "        #choose only useful columns of dataframe\n",
    "        df=(df2.iloc[:,0:5])\n",
    "        df.columns=['time','respt','ip','tcp','bytes']\n",
    "        df=df[['time','respt','bytes']]\n",
    "        \n",
    "        #convert datatype of columns to float\n",
    "        df.time=pd.Series(df.time).astype(float)\n",
    "        df.bytes=pd.to_numeric(df.bytes)\n",
    "        df.respt=pd.to_numeric(df.respt)\n",
    "        \n",
    "        #convert epoch time to human readable time\n",
    "        df['time1']=df.time.apply(lambda x: time.strftime('%Y-%m-%d %H:%M', time.localtime(x)))\n",
    "        \n",
    "        #club the data of each minute\n",
    "        df2= df.groupby(['time1'])['respt'].mean().to_frame().reset_index()\n",
    "        df3= df.groupby(['time1'])['bytes'].sum().to_frame().reset_index()\n",
    "        df4= df.groupby(['time1'])['respt'].count().to_frame().reset_index()\n",
    "        df4=df4.rename(index=str, columns={\"respt\":\"nreq\"})\n",
    "        df5=pd.merge(df2, df3, how='left')\n",
    "        df6=pd.merge(df5, df4, how='left')\n",
    "        \n",
    "        #save the information\n",
    "        df6.to_csv(list1[i])\n"
   ]
  }
 ],
 "metadata": {
  "kernelspec": {
   "display_name": "Python 3",
   "language": "python",
   "name": "python3"
  },
  "language_info": {
   "codemirror_mode": {
    "name": "ipython",
    "version": 3
   },
   "file_extension": ".py",
   "mimetype": "text/x-python",
   "name": "python",
   "nbconvert_exporter": "python",
   "pygments_lexer": "ipython3",
   "version": "3.5.2"
  }
 },
 "nbformat": 4,
 "nbformat_minor": 2
}
